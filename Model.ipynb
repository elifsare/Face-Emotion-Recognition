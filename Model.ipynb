{
  "nbformat": 4,
  "nbformat_minor": 0,
  "metadata": {
    "colab": {
      "provenance": [],
      "authorship_tag": "ABX9TyNbmQTPch/63LqexjAeQjhl",
      "include_colab_link": true
    },
    "kernelspec": {
      "name": "python3",
      "display_name": "Python 3"
    },
    "language_info": {
      "name": "python"
    },
    "accelerator": "GPU",
    "gpuClass": "standard"
  },
  "cells": [
    {
      "cell_type": "markdown",
      "metadata": {
        "id": "view-in-github",
        "colab_type": "text"
      },
      "source": [
        "<a href=\"https://colab.research.google.com/github/elifsare/Realtime-Emotion-Recognition/blob/main/Model.ipynb\" target=\"_parent\"><img src=\"https://colab.research.google.com/assets/colab-badge.svg\" alt=\"Open In Colab\"/></a>"
      ]
    },
    {
      "cell_type": "code",
      "execution_count": 1,
      "metadata": {
        "colab": {
          "base_uri": "https://localhost:8080/"
        },
        "id": "KNlavOMpoiQl",
        "outputId": "c0be3a1c-accd-46c3-db46-6ca815a600a8"
      },
      "outputs": [
        {
          "output_type": "stream",
          "name": "stdout",
          "text": [
            "Mounted at /content/drive\n",
            "drive  sample_data\n"
          ]
        }
      ],
      "source": [
        "from google.colab import drive\n",
        "drive.mount('/content/drive')\n",
        "import os\n",
        "!ls"
      ]
    },
    {
      "cell_type": "code",
      "source": [
        "from google.colab import files\n",
        "files.upload()"
      ],
      "metadata": {
        "id": "tcLhb8pComwJ"
      },
      "execution_count": null,
      "outputs": []
    },
    {
      "cell_type": "code",
      "source": [
        "!mkdir -p ~/.kaggle\n",
        "!cp kaggle.json ~/.kaggle/\n",
        "!chmod 600 ~/.kaggle/kaggle.json\n",
        "!kaggle datasets download -d msambare/fer2013"
      ],
      "metadata": {
        "colab": {
          "base_uri": "https://localhost:8080/"
        },
        "id": "zZIw57QVosk4",
        "outputId": "9fba1b25-ec19-498f-9297-69c67b9b46a3"
      },
      "execution_count": 3,
      "outputs": [
        {
          "output_type": "stream",
          "name": "stdout",
          "text": [
            "Downloading fer2013.zip to /content\n",
            " 99% 60.0M/60.3M [00:04<00:00, 16.7MB/s]\n",
            "100% 60.3M/60.3M [00:04<00:00, 13.8MB/s]\n"
          ]
        }
      ]
    },
    {
      "cell_type": "code",
      "source": [
        "!mkdir face_dataset\n",
        "!unzip '/content/fer2013.zip' -d face_dataset"
      ],
      "metadata": {
        "id": "-nZV2JulotKj"
      },
      "execution_count": null,
      "outputs": []
    },
    {
      "cell_type": "code",
      "source": [
        "import pandas as pd                       \n",
        "import numpy as np\n",
        "import matplotlib.pyplot as plt\n",
        "\n",
        "import tensorflow as tf \n",
        "\n",
        "from keras.models import Sequential     \n",
        "from keras.preprocessing import image \n",
        "from keras.preprocessing.image import ImageDataGenerator\n",
        "from keras.layers import Dense, Conv2D, MaxPool2D , Flatten, Dropout, AveragePooling2D, Activation\n",
        "from keras.optimizers import SGD, Adam, RMSprop, Adamax \n",
        "from keras.utils import np_utils  \n",
        "from tensorflow.keras.layers import BatchNormalization\n",
        "from keras.callbacks import ModelCheckpoint, EarlyStopping, ReduceLROnPlateau\n",
        "\n",
        "from tensorflow.keras.utils import load_img, img_to_array\n",
        "\n",
        "import os\n",
        "import seaborn as sns\n",
        "import cv2\n",
        "from tensorflow.keras.applications import VGG16, InceptionResNetV2\n",
        "from keras import regularizers"
      ],
      "metadata": {
        "id": "PaGwLhvFotNT"
      },
      "execution_count": 5,
      "outputs": []
    },
    {
      "cell_type": "code",
      "source": [
        "train_path = '/content/face_dataset/train'\n",
        "test_path = '/content/face_dataset/test'"
      ],
      "metadata": {
        "id": "eDFJA1SZotPj"
      },
      "execution_count": 6,
      "outputs": []
    },
    {
      "cell_type": "code",
      "source": [
        "img_size = 48"
      ],
      "metadata": {
        "id": "wTWRkFO8otSF"
      },
      "execution_count": 7,
      "outputs": []
    },
    {
      "cell_type": "code",
      "source": [
        "expression = 'fear'\n",
        "plt.figure(figsize= (10,10))\n",
        "folder_path = '/content/face_dataset/'\n",
        "for i in range(1, 10, 1):\n",
        "    plt.subplot(3,3,i)\n",
        "    img = load_img(train_path + '/' + expression + \"/\" + os.listdir(train_path  + '/' + expression)[i], \n",
        "                   target_size=(48, 48)\n",
        "                   )\n",
        "    plt.imshow(img)   \n",
        "plt.show()"
      ],
      "metadata": {
        "colab": {
          "base_uri": "https://localhost:8080/",
          "height": 594
        },
        "id": "-NtbeMVZotUa",
        "outputId": "7f6b2fa2-bd62-43a8-a5ee-a052b080ebd7"
      },
      "execution_count": 8,
      "outputs": [
        {
          "output_type": "display_data",
          "data": {
            "text/plain": [
              "<Figure size 720x720 with 9 Axes>"
            ],
            "image/png": "[encoded data removed]"
          },
          "metadata": {
            "needs_background": "light"
          }
        }
      ]
    },
    {
      "cell_type": "code",
      "source": [
        "train_generator = ImageDataGenerator(width_shift_range = 0.1,\n",
        "                                    height_shift_range = 0.1,\n",
        "                                    horizontal_flip = True,\n",
        "                                    rescale = 1./255,\n",
        "                                    validation_split = 0.2\n",
        "                                    )\n",
        "validation_generator = ImageDataGenerator(rescale = 1./255,\n",
        "                                         validation_split = 0.2)"
      ],
      "metadata": {
        "id": "1EbtmFMIo9zY"
      },
      "execution_count": 9,
      "outputs": []
    },
    {
      "cell_type": "code",
      "source": [
        "train_flow = train_generator.flow_from_directory(directory = train_path,\n",
        "                                                target_size = (img_size,img_size),\n",
        "                                                batch_size = 64,\n",
        "                                                color_mode = \"grayscale\",\n",
        "                                                class_mode = \"categorical\",\n",
        "                                                subset = \"training\"\n",
        "                                                )\n",
        "validation_flow = validation_generator.flow_from_directory( directory = test_path,\n",
        "                                                            target_size = (img_size,img_size),\n",
        "                                                            batch_size = 64,\n",
        "                                                            color_mode = \"grayscale\",\n",
        "                                                            class_mode = \"categorical\",\n",
        "                                                            subset = \"validation\"\n",
        "                                                            )"
      ],
      "metadata": {
        "colab": {
          "base_uri": "https://localhost:8080/"
        },
        "id": "YAg9Gsq8pmN6",
        "outputId": "c9fccf2a-c7b9-45cc-da3c-7a645a60d94f"
      },
      "execution_count": 10,
      "outputs": [
        {
          "output_type": "stream",
          "name": "stdout",
          "text": [
            "Found 22968 images belonging to 7 classes.\n",
            "Found 1432 images belonging to 7 classes.\n"
          ]
        }
      ]
    },
    {
      "cell_type": "code",
      "source": [
        "#num_classes = 7 #angry, disgust, fear, happy, sad, surprise, neutral\n",
        "\n",
        "model = Sequential()\n",
        "model.add(Conv2D(32, kernel_size=(3, 3), padding='same', activation='relu', input_shape=(48, 48,1)))\n",
        "model.add(Conv2D(64,(3,3), padding='same', activation='relu' ))\n",
        "model.add(BatchNormalization())\n",
        "model.add(MaxPool2D(pool_size=(2, 2)))\n",
        "model.add(Dropout(0.25))\n",
        "\n",
        "model.add(Conv2D(128,(5,5), padding='same', activation='relu'))\n",
        "model.add(BatchNormalization())\n",
        "model.add(MaxPool2D(pool_size=(2, 2)))\n",
        "model.add(Dropout(0.25))\n",
        "    \n",
        "model.add(Conv2D(512,(3,3), padding='same', activation='relu', kernel_regularizer=regularizers.l2(0.01)))\n",
        "model.add(BatchNormalization())\n",
        "model.add(MaxPool2D(pool_size=(2, 2)))\n",
        "model.add(Dropout(0.25))\n",
        "\n",
        "model.add(Conv2D(512,(3,3), padding='same', activation='relu', kernel_regularizer=regularizers.l2(0.01)))\n",
        "model.add(BatchNormalization())\n",
        "model.add(MaxPool2D(pool_size=(2, 2)))\n",
        "model.add(Dropout(0.25))\n",
        "\n",
        "model.add(Flatten()) \n",
        "model.add(Dense(256,activation = 'relu'))\n",
        "model.add(BatchNormalization())\n",
        "model.add(Dropout(0.25))\n",
        "    \n",
        "model.add(Dense(512,activation = 'relu'))\n",
        "model.add(BatchNormalization())\n",
        "model.add(Dropout(0.25))\n",
        "\n",
        "model.add(Dense(7, activation='softmax'))\n",
        "\n",
        "model.summary()\n",
        "\n",
        "model.compile(\n",
        "    optimizer = Adam(lr=0.0001), \n",
        "    loss='categorical_crossentropy', \n",
        "    metrics=['accuracy']\n",
        "  )"
      ],
      "metadata": {
        "colab": {
          "base_uri": "https://localhost:8080/"
        },
        "id": "DibHOMMupqNu",
        "outputId": "a1eb2947-630c-4026-908f-e44c9903ba89"
      },
      "execution_count": 11,
      "outputs": [
        {
          "output_type": "stream",
          "name": "stdout",
          "text": [
            "Model: \"sequential\"\n",
            "_________________________________________________________________\n",
            " Layer (type)                Output Shape              Param #   \n",
            "=================================================================\n",
            " conv2d (Conv2D)             (None, 48, 48, 32)        320       \n",
            "                                                                 \n",
            " conv2d_1 (Conv2D)           (None, 48, 48, 64)        18496     \n",
            "                                                                 \n",
            " batch_normalization (BatchN  (None, 48, 48, 64)       256       \n",
            " ormalization)                                                   \n",
            "                                                                 \n",
            " max_pooling2d (MaxPooling2D  (None, 24, 24, 64)       0         \n",
            " )                                                               \n",
            "                                                                 \n",
            " dropout (Dropout)           (None, 24, 24, 64)        0         \n",
            "                                                                 \n",
            " conv2d_2 (Conv2D)           (None, 24, 24, 128)       204928    \n",
            "                                                                 \n",
            " batch_normalization_1 (Batc  (None, 24, 24, 128)      512       \n",
            " hNormalization)                                                 \n",
            "                                                                 \n",
            " max_pooling2d_1 (MaxPooling  (None, 12, 12, 128)      0         \n",
            " 2D)                                                             \n",
            "                                                                 \n",
            " dropout_1 (Dropout)         (None, 12, 12, 128)       0         \n",
            "                                                                 \n",
            " conv2d_3 (Conv2D)           (None, 12, 12, 512)       590336    \n",
            "                                                                 \n",
            " batch_normalization_2 (Batc  (None, 12, 12, 512)      2048      \n",
            " hNormalization)                                                 \n",
            "                                                                 \n",
            " max_pooling2d_2 (MaxPooling  (None, 6, 6, 512)        0         \n",
            " 2D)                                                             \n",
            "                                                                 \n",
            " dropout_2 (Dropout)         (None, 6, 6, 512)         0         \n",
            "                                                                 \n",
            " conv2d_4 (Conv2D)           (None, 6, 6, 512)         2359808   \n",
            "                                                                 \n",
            " batch_normalization_3 (Batc  (None, 6, 6, 512)        2048      \n",
            " hNormalization)                                                 \n",
            "                                                                 \n",
            " max_pooling2d_3 (MaxPooling  (None, 3, 3, 512)        0         \n",
            " 2D)                                                             \n",
            "                                                                 \n",
            " dropout_3 (Dropout)         (None, 3, 3, 512)         0         \n",
            "                                                                 \n",
            " flatten (Flatten)           (None, 4608)              0         \n",
            "                                                                 \n",
            " dense (Dense)               (None, 256)               1179904   \n",
            "                                                                 \n",
            " batch_normalization_4 (Batc  (None, 256)              1024      \n",
            " hNormalization)                                                 \n",
            "                                                                 \n",
            " dropout_4 (Dropout)         (None, 256)               0         \n",
            "                                                                 \n",
            " dense_1 (Dense)             (None, 512)               131584    \n",
            "                                                                 \n",
            " batch_normalization_5 (Batc  (None, 512)              2048      \n",
            " hNormalization)                                                 \n",
            "                                                                 \n",
            " dropout_5 (Dropout)         (None, 512)               0         \n",
            "                                                                 \n",
            " dense_2 (Dense)             (None, 7)                 3591      \n",
            "                                                                 \n",
            "=================================================================\n",
            "Total params: 4,496,903\n",
            "Trainable params: 4,492,935\n",
            "Non-trainable params: 3,968\n",
            "_________________________________________________________________\n"
          ]
        },
        {
          "output_type": "stream",
          "name": "stderr",
          "text": [
            "/usr/local/lib/python3.8/dist-packages/keras/optimizers/optimizer_v2/adam.py:110: UserWarning: The `lr` argument is deprecated, use `learning_rate` instead.\n",
            "  super(Adam, self).__init__(name, **kwargs)\n"
          ]
        }
      ]
    },
    {
      "cell_type": "code",
      "source": [
        "# CheckPoint\n",
        "root = '/content/drive/MyDrive/DeepLearningProject/EmotionDetection/'\n",
        "checkPointer = ModelCheckpoint(root + 'checkPoint_model.h5', verbose = 1, save_best_only = True)"
      ],
      "metadata": {
        "id": "407IfnWyqWn2"
      },
      "execution_count": 12,
      "outputs": []
    },
    {
      "cell_type": "code",
      "source": [
        "# overfitting engelliyoruz\n",
        "# EarlyStop\n",
        "early_stopping = EarlyStopping(monitor='val_loss',\n",
        "                               min_delta=0,\n",
        "                               patience=20,\n",
        "                               verbose=1,\n",
        "                               restore_best_weights=True)\n",
        "\n",
        "reduce_learningrate = ReduceLROnPlateau(monitor='val_loss',\n",
        "                                        factor=0.2,\n",
        "                                        patience=15,\n",
        "                                        verbose=1,\n",
        "                                        min_delta=0.0001)\n",
        "\n",
        "callbacks_list = [early_stopping, checkPointer, reduce_learningrate]\n",
        "\n",
        "model.compile(loss='categorical_crossentropy',\n",
        "              optimizer = Adam(lr=0.001),\n",
        "              metrics=['accuracy'])"
      ],
      "metadata": {
        "id": "tCXuS9iPqdVy"
      },
      "execution_count": 13,
      "outputs": []
    },
    {
      "cell_type": "code",
      "source": [
        "epochs = 60\n",
        "batch_size = 64"
      ],
      "metadata": {
        "id": "CtL9LbhPqzw1"
      },
      "execution_count": 14,
      "outputs": []
    },
    {
      "cell_type": "code",
      "source": [
        "history = model.fit(x = train_flow,\n",
        "                    epochs = epochs,\n",
        "                    validation_data = validation_flow)\n",
        "\n",
        "\"\"\"history = model.fit_generator(generator=train_generator,\n",
        "                                steps_per_epoch=batch_size,\n",
        "                                epochs=epochs,\n",
        "                                validation_data = test_generator,\n",
        "                                validation_steps = test_generator.n//test_generator.batch_size,\n",
        "                                callbacks=callbacks_list,\n",
        "                                shuffle = True,\n",
        "                                verbose=1\n",
        "                              )\"\"\"\n"
      ],
      "metadata": {
        "colab": {
          "base_uri": "https://localhost:8080/",
          "height": 1000
        },
        "id": "b_cNt2OSq8OZ",
        "outputId": "7ae539f0-9d74-4b5e-ef99-95f94e412b75"
      },
      "execution_count": 15,
      "outputs": [
        {
          "output_type": "stream",
          "name": "stdout",
          "text": [
            "Epoch 1/60\n",
            "359/359 [==============================] - 32s 63ms/step - loss: 5.0964 - accuracy: 0.2240 - val_loss: 2.9227 - val_accuracy: 0.2472\n",
            "Epoch 2/60\n",
            "359/359 [==============================] - 20s 56ms/step - loss: 2.3335 - accuracy: 0.3132 - val_loss: 3.3851 - val_accuracy: 0.2535\n",
            "Epoch 3/60\n",
            "359/359 [==============================] - 20s 56ms/step - loss: 2.3129 - accuracy: 0.3940 - val_loss: 2.4076 - val_accuracy: 0.4183\n",
            "Epoch 4/60\n",
            "359/359 [==============================] - 22s 60ms/step - loss: 2.3294 - accuracy: 0.4534 - val_loss: 2.4714 - val_accuracy: 0.4372\n",
            "Epoch 5/60\n",
            "359/359 [==============================] - 21s 59ms/step - loss: 2.2085 - accuracy: 0.4787 - val_loss: 2.3774 - val_accuracy: 0.4169\n",
            "Epoch 6/60\n",
            "359/359 [==============================] - 20s 56ms/step - loss: 2.1657 - accuracy: 0.4884 - val_loss: 2.0423 - val_accuracy: 0.5154\n",
            "Epoch 7/60\n",
            "359/359 [==============================] - 20s 57ms/step - loss: 2.0706 - accuracy: 0.4987 - val_loss: 1.9830 - val_accuracy: 0.5272\n",
            "Epoch 8/60\n",
            "359/359 [==============================] - 20s 56ms/step - loss: 2.1258 - accuracy: 0.5090 - val_loss: 2.2176 - val_accuracy: 0.5000\n",
            "Epoch 9/60\n",
            "359/359 [==============================] - 20s 56ms/step - loss: 2.1007 - accuracy: 0.5077 - val_loss: 1.9864 - val_accuracy: 0.5293\n",
            "Epoch 10/60\n",
            "359/359 [==============================] - 20s 56ms/step - loss: 2.0035 - accuracy: 0.5225 - val_loss: 1.9106 - val_accuracy: 0.5447\n",
            "Epoch 11/60\n",
            "359/359 [==============================] - 20s 55ms/step - loss: 2.0057 - accuracy: 0.5281 - val_loss: 1.9749 - val_accuracy: 0.5503\n",
            "Epoch 12/60\n",
            "359/359 [==============================] - 20s 56ms/step - loss: 1.9810 - accuracy: 0.5269 - val_loss: 2.0437 - val_accuracy: 0.4860\n",
            "Epoch 13/60\n",
            "359/359 [==============================] - 20s 56ms/step - loss: 2.0265 - accuracy: 0.5313 - val_loss: 1.9037 - val_accuracy: 0.5419\n",
            "Epoch 14/60\n",
            "359/359 [==============================] - 23s 63ms/step - loss: 1.9395 - accuracy: 0.5326 - val_loss: 1.9754 - val_accuracy: 0.5468\n",
            "Epoch 15/60\n",
            "359/359 [==============================] - 20s 56ms/step - loss: 2.0014 - accuracy: 0.5404 - val_loss: 2.0633 - val_accuracy: 0.5328\n",
            "Epoch 16/60\n",
            "359/359 [==============================] - 20s 56ms/step - loss: 1.9099 - accuracy: 0.5438 - val_loss: 1.9703 - val_accuracy: 0.5203\n",
            "Epoch 17/60\n",
            "359/359 [==============================] - 20s 56ms/step - loss: 1.8942 - accuracy: 0.5479 - val_loss: 1.9452 - val_accuracy: 0.5545\n",
            "Epoch 18/60\n",
            "359/359 [==============================] - 20s 56ms/step - loss: 1.8675 - accuracy: 0.5485 - val_loss: 1.7759 - val_accuracy: 0.5922\n",
            "Epoch 19/60\n",
            "359/359 [==============================] - 20s 57ms/step - loss: 1.8040 - accuracy: 0.5577 - val_loss: 1.7483 - val_accuracy: 0.5628\n",
            "Epoch 20/60\n",
            "359/359 [==============================] - 20s 57ms/step - loss: 1.8128 - accuracy: 0.5526 - val_loss: 1.8632 - val_accuracy: 0.5684\n",
            "Epoch 21/60\n",
            "359/359 [==============================] - 25s 69ms/step - loss: 1.8133 - accuracy: 0.5528 - val_loss: 1.7606 - val_accuracy: 0.5580\n",
            "Epoch 22/60\n",
            "359/359 [==============================] - 20s 56ms/step - loss: 1.7532 - accuracy: 0.5621 - val_loss: 1.7032 - val_accuracy: 0.5761\n",
            "Epoch 23/60\n",
            "359/359 [==============================] - 20s 56ms/step - loss: 1.7209 - accuracy: 0.5633 - val_loss: 1.7240 - val_accuracy: 0.5580\n",
            "Epoch 24/60\n",
            "359/359 [==============================] - 23s 65ms/step - loss: 1.7551 - accuracy: 0.5635 - val_loss: 1.6346 - val_accuracy: 0.5747\n",
            "Epoch 25/60\n",
            "359/359 [==============================] - 20s 56ms/step - loss: 1.6309 - accuracy: 0.5639 - val_loss: 1.5867 - val_accuracy: 0.5852\n",
            "Epoch 26/60\n",
            "359/359 [==============================] - 20s 56ms/step - loss: 1.6294 - accuracy: 0.5679 - val_loss: 1.5518 - val_accuracy: 0.6047\n",
            "Epoch 27/60\n",
            "359/359 [==============================] - 20s 56ms/step - loss: 1.6134 - accuracy: 0.5724 - val_loss: 1.5891 - val_accuracy: 0.5824\n",
            "Epoch 28/60\n",
            "359/359 [==============================] - 20s 56ms/step - loss: 1.5944 - accuracy: 0.5741 - val_loss: 1.7837 - val_accuracy: 0.5440\n",
            "Epoch 29/60\n",
            "359/359 [==============================] - 20s 56ms/step - loss: 1.6325 - accuracy: 0.5737 - val_loss: 1.6667 - val_accuracy: 0.5880\n",
            "Epoch 30/60\n",
            "359/359 [==============================] - 20s 56ms/step - loss: 1.6053 - accuracy: 0.5793 - val_loss: 1.4917 - val_accuracy: 0.6034\n",
            "Epoch 31/60\n",
            "359/359 [==============================] - 20s 55ms/step - loss: 1.5442 - accuracy: 0.5723 - val_loss: 1.4139 - val_accuracy: 0.6145\n",
            "Epoch 32/60\n",
            "359/359 [==============================] - 20s 55ms/step - loss: 1.5262 - accuracy: 0.5822 - val_loss: 1.4505 - val_accuracy: 0.6034\n",
            "Epoch 33/60\n",
            "359/359 [==============================] - 20s 55ms/step - loss: 1.5284 - accuracy: 0.5771 - val_loss: 1.4382 - val_accuracy: 0.6020\n",
            "Epoch 34/60\n",
            "359/359 [==============================] - 20s 56ms/step - loss: 1.5221 - accuracy: 0.5825 - val_loss: 1.5054 - val_accuracy: 0.5901\n",
            "Epoch 35/60\n",
            "359/359 [==============================] - 21s 59ms/step - loss: 1.5387 - accuracy: 0.5846 - val_loss: 1.5043 - val_accuracy: 0.5985\n",
            "Epoch 36/60\n",
            "359/359 [==============================] - 22s 60ms/step - loss: 1.5740 - accuracy: 0.5842 - val_loss: 1.4513 - val_accuracy: 0.5824\n",
            "Epoch 37/60\n",
            "359/359 [==============================] - 23s 64ms/step - loss: 1.5441 - accuracy: 0.5849 - val_loss: 1.5207 - val_accuracy: 0.5859\n",
            "Epoch 38/60\n",
            "359/359 [==============================] - 20s 55ms/step - loss: 1.4794 - accuracy: 0.5912 - val_loss: 1.4805 - val_accuracy: 0.6006\n",
            "Epoch 39/60\n",
            "359/359 [==============================] - 20s 55ms/step - loss: 1.5124 - accuracy: 0.5845 - val_loss: 1.4478 - val_accuracy: 0.5957\n",
            "Epoch 40/60\n",
            "359/359 [==============================] - 20s 55ms/step - loss: 1.4520 - accuracy: 0.5916 - val_loss: 1.4413 - val_accuracy: 0.5922\n",
            "Epoch 41/60\n",
            "359/359 [==============================] - 20s 55ms/step - loss: 1.5210 - accuracy: 0.5894 - val_loss: 1.4772 - val_accuracy: 0.5768\n",
            "Epoch 42/60\n",
            "359/359 [==============================] - 20s 57ms/step - loss: 1.4792 - accuracy: 0.5926 - val_loss: 1.4533 - val_accuracy: 0.5950\n",
            "Epoch 43/60\n",
            "359/359 [==============================] - 21s 58ms/step - loss: 1.4610 - accuracy: 0.5920 - val_loss: 1.4392 - val_accuracy: 0.6020\n",
            "Epoch 44/60\n",
            "359/359 [==============================] - 22s 61ms/step - loss: 1.4625 - accuracy: 0.5920 - val_loss: 1.4863 - val_accuracy: 0.5782\n",
            "Epoch 45/60\n",
            "359/359 [==============================] - 21s 58ms/step - loss: 1.4698 - accuracy: 0.5952 - val_loss: 1.4105 - val_accuracy: 0.6103\n",
            "Epoch 46/60\n",
            "359/359 [==============================] - 20s 55ms/step - loss: 1.4805 - accuracy: 0.5934 - val_loss: 1.5335 - val_accuracy: 0.6041\n",
            "Epoch 47/60\n",
            "359/359 [==============================] - 20s 56ms/step - loss: 1.4433 - accuracy: 0.5973 - val_loss: 1.4193 - val_accuracy: 0.6124\n",
            "Epoch 48/60\n",
            "359/359 [==============================] - 20s 55ms/step - loss: 1.4830 - accuracy: 0.5997 - val_loss: 1.4685 - val_accuracy: 0.5943\n",
            "Epoch 49/60\n",
            "359/359 [==============================] - 20s 55ms/step - loss: 1.4332 - accuracy: 0.6006 - val_loss: 1.4037 - val_accuracy: 0.6054\n",
            "Epoch 50/60\n",
            "359/359 [==============================] - 20s 55ms/step - loss: 1.4257 - accuracy: 0.5994 - val_loss: 1.4100 - val_accuracy: 0.6041\n",
            "Epoch 51/60\n",
            "359/359 [==============================] - 23s 64ms/step - loss: 1.4039 - accuracy: 0.5981 - val_loss: 1.4126 - val_accuracy: 0.5985\n",
            "Epoch 52/60\n",
            "359/359 [==============================] - 20s 55ms/step - loss: 1.4101 - accuracy: 0.6009 - val_loss: 1.4432 - val_accuracy: 0.6159\n",
            "Epoch 53/60\n",
            "359/359 [==============================] - 20s 55ms/step - loss: 1.4399 - accuracy: 0.6031 - val_loss: 1.3588 - val_accuracy: 0.6166\n",
            "Epoch 54/60\n",
            "359/359 [==============================] - 20s 56ms/step - loss: 1.4403 - accuracy: 0.6021 - val_loss: 1.3704 - val_accuracy: 0.6180\n",
            "Epoch 55/60\n",
            "359/359 [==============================] - 20s 55ms/step - loss: 1.4140 - accuracy: 0.6048 - val_loss: 1.4804 - val_accuracy: 0.5915\n",
            "Epoch 56/60\n",
            "359/359 [==============================] - 20s 55ms/step - loss: 1.4565 - accuracy: 0.6009 - val_loss: 1.4551 - val_accuracy: 0.6082\n",
            "Epoch 57/60\n",
            "359/359 [==============================] - 20s 55ms/step - loss: 1.4395 - accuracy: 0.6094 - val_loss: 1.3698 - val_accuracy: 0.6180\n",
            "Epoch 58/60\n",
            "359/359 [==============================] - 20s 55ms/step - loss: 1.4122 - accuracy: 0.6078 - val_loss: 1.4047 - val_accuracy: 0.6068\n",
            "Epoch 59/60\n",
            "359/359 [==============================] - 20s 55ms/step - loss: 1.3623 - accuracy: 0.6099 - val_loss: 1.3671 - val_accuracy: 0.6103\n",
            "Epoch 60/60\n",
            "359/359 [==============================] - 20s 55ms/step - loss: 1.3738 - accuracy: 0.6071 - val_loss: 1.3747 - val_accuracy: 0.6222\n"
          ]
        },
        {
          "output_type": "execute_result",
          "data": {
            "text/plain": [
              "'history = model.fit_generator(generator=train_generator,\\n                                steps_per_epoch=batch_size,\\n                                epochs=epochs,\\n                                validation_data = test_generator,\\n                                validation_steps = test_generator.n//test_generator.batch_size,\\n                                callbacks=callbacks_list,\\n                                shuffle = True,\\n                                verbose=1\\n                              )'"
            ],
            "application/vnd.google.colaboratory.intrinsic+json": {
              "type": "string"
            }
          },
          "metadata": {},
          "execution_count": 15
        }
      ]
    },
    {
      "cell_type": "code",
      "source": [
        "train_loss, train_acc = model.evaluate(train_flow)\n",
        "test_loss, test_acc   = model.evaluate(validation_flow)\n",
        "print(\"final train accuracy = {:.2f} , validation accuracy = {:.2f}\".format(train_acc * 100, test_acc * 100))"
      ],
      "metadata": {
        "colab": {
          "base_uri": "https://localhost:8080/"
        },
        "id": "Ue0WA5O8rKrD",
        "outputId": "8763fee7-7117-452b-bf52-f61c58ee0723"
      },
      "execution_count": 16,
      "outputs": [
        {
          "output_type": "stream",
          "name": "stdout",
          "text": [
            "359/359 [==============================] - 17s 48ms/step - loss: 1.3243 - accuracy: 0.6287\n",
            "23/23 [==============================] - 1s 21ms/step - loss: 1.3747 - accuracy: 0.6222\n",
            "final train accuracy = 62.87 , validation accuracy = 62.22\n"
          ]
        }
      ]
    },
    {
      "cell_type": "code",
      "source": [
        "import matplotlib.pyplot as plt\n",
        "\n",
        "plt.figure(figsize = (14,3))\n",
        "plt.subplot(1,2,1)\n",
        "#plt.suptitle('Train', fonstsize = 10)\n",
        "plt.ylabel('Loss', fontsize = 15)\n",
        "plt.plot(history.history['loss'], color = 'b', label = 'Training Loss')\n",
        "plt.plot(history.history['val_loss'], color = 'r', label = 'Validation Loss')\n",
        "\n",
        "plt.subplot(1,2,2)\n",
        "plt.ylabel('Accuracy', fontsize = 15)\n",
        "plt.plot(history.history['accuracy'], color = 'b', label = 'Training Accuracy')\n",
        "plt.plot(history.history['val_accuracy'], color = 'r', label = 'Validation Accuracy')\n",
        "\n",
        "plt.legend(loc = 'lower right')\n",
        "\n",
        "plt.show()"
      ],
      "metadata": {
        "id": "I-TkTiT-r8rK",
        "colab": {
          "base_uri": "https://localhost:8080/",
          "height": 211
        },
        "outputId": "85b28faa-ed39-4f0c-93a6-21673f4df313"
      },
      "execution_count": 17,
      "outputs": [
        {
          "output_type": "display_data",
          "data": {
            "text/plain": [
              "<Figure size 1008x216 with 2 Axes>"
            ],
            "image/png": "[encoded data removed]"
          },
          "metadata": {
            "needs_background": "light"
          }
        }
      ]
    },
    {
      "cell_type": "code",
      "source": [
        "model.save('/content/drive/MyDrive/DeepLearningProject/EmotionDetection/model.h5')"
      ],
      "metadata": {
        "id": "yZ7VJXdarTWt"
      },
      "execution_count": 18,
      "outputs": []
    }
  ]
}