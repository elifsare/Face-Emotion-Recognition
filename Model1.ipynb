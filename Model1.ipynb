{
  "nbformat": 4,
  "nbformat_minor": 0,
  "metadata": {
    "colab": {
      "provenance": [],
      "authorship_tag": "ABX9TyOFkmSnxUZITc1YBxCZvLtr",
      "include_colab_link": true
    },
    "kernelspec": {
      "name": "python3",
      "display_name": "Python 3"
    },
    "language_info": {
      "name": "python"
    },
    "accelerator": "GPU",
    "gpuClass": "standard"
  },
  "cells": [
    {
      "cell_type": "markdown",
      "metadata": {
        "id": "view-in-github",
        "colab_type": "text"
      },
      "source": [
        "<a href=\"https://colab.research.google.com/github/elifsare/Realtime-Emotion-Recognition/blob/main/Model1.ipynb\" target=\"_parent\"><img src=\"https://colab.research.google.com/assets/colab-badge.svg\" alt=\"Open In Colab\"/></a>"
      ]
    },
    {
      "cell_type": "markdown",
      "source": [
        "Google colab connect drive"
      ],
      "metadata": {
        "id": "L7atvfiL4raz"
      }
    },
    {
      "cell_type": "code",
      "execution_count": 1,
      "metadata": {
        "colab": {
          "base_uri": "https://localhost:8080/"
        },
        "id": "corfVSl9o04y",
        "outputId": "c5864e27-7de5-41a1-cd8b-67446a7b87c0"
      },
      "outputs": [
        {
          "output_type": "stream",
          "name": "stdout",
          "text": [
            "Mounted at /content/drive\n",
            "drive  sample_data\n"
          ]
        }
      ],
      "source": [
        "from google.colab import drive\n",
        "drive.mount('/content/drive')\n",
        "import os\n",
        "!ls"
      ]
    },
    {
      "cell_type": "markdown",
      "source": [
        "Pulling data from Kaggle to Google Colab"
      ],
      "metadata": {
        "id": "GI_-Vnik44mi"
      }
    },
    {
      "cell_type": "code",
      "source": [
        "from google.colab import files\n",
        "files.upload()"
      ],
      "metadata": {
        "colab": {
          "base_uri": "https://localhost:8080/",
          "height": 91
        },
        "id": "rVsVGIGvo9DB",
        "outputId": "2f5951c7-bdad-4f9e-ef08-84d378eebec5"
      },
      "execution_count": 2,
      "outputs": [
        {
          "output_type": "display_data",
          "data": {
            "text/plain": [
              "<IPython.core.display.HTML object>"
            ],
            "text/html": [
              "\n",
              "     <input type=\"file\" id=\"files-944c6a1b-010d-42ae-896b-04887213fef0\" name=\"files[]\" multiple disabled\n",
              "        style=\"border:none\" />\n",
              "     <output id=\"result-944c6a1b-010d-42ae-896b-04887213fef0\">\n",
              "      Upload widget is only available when the cell has been executed in the\n",
              "      current browser session. Please rerun this cell to enable.\n",
              "      </output>\n",
              "      <script>// Copyright 2017 Google LLC\n",
              "//\n",
              "// Licensed under the Apache License, Version 2.0 (the \"License\");\n",
              "// you may not use this file except in compliance with the License.\n",
              "// You may obtain a copy of the License at\n",
              "//\n",
              "//      http://www.apache.org/licenses/LICENSE-2.0\n",
              "//\n",
              "// Unless required by applicable law or agreed to in writing, software\n",
              "// distributed under the License is distributed on an \"AS IS\" BASIS,\n",
              "// WITHOUT WARRANTIES OR CONDITIONS OF ANY KIND, either express or implied.\n",
              "// See the License for the specific language governing permissions and\n",
              "// limitations under the License.\n",
              "\n",
              "/**\n",
              " * @fileoverview Helpers for google.colab Python module.\n",
              " */\n",
              "(function(scope) {\n",
              "function span(text, styleAttributes = {}) {\n",
              "  const element = document.createElement('span');\n",
              "  element.textContent = text;\n",
              "  for (const key of Object.keys(styleAttributes)) {\n",
              "    element.style[key] = styleAttributes[key];\n",
              "  }\n",
              "  return element;\n",
              "}\n",
              "\n",
              "// Max number of bytes which will be uploaded at a time.\n",
              "const MAX_PAYLOAD_SIZE = 100 * 1024;\n",
              "\n",
              "function _uploadFiles(inputId, outputId) {\n",
              "  const steps = uploadFilesStep(inputId, outputId);\n",
              "  const outputElement = document.getElementById(outputId);\n",
              "  // Cache steps on the outputElement to make it available for the next call\n",
              "  // to uploadFilesContinue from Python.\n",
              "  outputElement.steps = steps;\n",
              "\n",
              "  return _uploadFilesContinue(outputId);\n",
              "}\n",
              "\n",
              "// This is roughly an async generator (not supported in the browser yet),\n",
              "// where there are multiple asynchronous steps and the Python side is going\n",
              "// to poll for completion of each step.\n",
              "// This uses a Promise to block the python side on completion of each step,\n",
              "// then passes the result of the previous step as the input to the next step.\n",
              "function _uploadFilesContinue(outputId) {\n",
              "  const outputElement = document.getElementById(outputId);\n",
              "  const steps = outputElement.steps;\n",
              "\n",
              "  const next = steps.next(outputElement.lastPromiseValue);\n",
              "  return Promise.resolve(next.value.promise).then((value) => {\n",
              "    // Cache the last promise value to make it available to the next\n",
              "    // step of the generator.\n",
              "    outputElement.lastPromiseValue = value;\n",
              "    return next.value.response;\n",
              "  });\n",
              "}\n",
              "\n",
              "/**\n",
              " * Generator function which is called between each async step of the upload\n",
              " * process.\n",
              " * @param {string} inputId Element ID of the input file picker element.\n",
              " * @param {string} outputId Element ID of the output display.\n",
              " * @return {!Iterable<!Object>} Iterable of next steps.\n",
              " */\n",
              "function* uploadFilesStep(inputId, outputId) {\n",
              "  const inputElement = document.getElementById(inputId);\n",
              "  inputElement.disabled = false;\n",
              "\n",
              "  const outputElement = document.getElementById(outputId);\n",
              "  outputElement.innerHTML = '';\n",
              "\n",
              "  const pickedPromise = new Promise((resolve) => {\n",
              "    inputElement.addEventListener('change', (e) => {\n",
              "      resolve(e.target.files);\n",
              "    });\n",
              "  });\n",
              "\n",
              "  const cancel = document.createElement('button');\n",
              "  inputElement.parentElement.appendChild(cancel);\n",
              "  cancel.textContent = 'Cancel upload';\n",
              "  const cancelPromise = new Promise((resolve) => {\n",
              "    cancel.onclick = () => {\n",
              "      resolve(null);\n",
              "    };\n",
              "  });\n",
              "\n",
              "  // Wait for the user to pick the files.\n",
              "  const files = yield {\n",
              "    promise: Promise.race([pickedPromise, cancelPromise]),\n",
              "    response: {\n",
              "      action: 'starting',\n",
              "    }\n",
              "  };\n",
              "\n",
              "  cancel.remove();\n",
              "\n",
              "  // Disable the input element since further picks are not allowed.\n",
              "  inputElement.disabled = true;\n",
              "\n",
              "  if (!files) {\n",
              "    return {\n",
              "      response: {\n",
              "        action: 'complete',\n",
              "      }\n",
              "    };\n",
              "  }\n",
              "\n",
              "  for (const file of files) {\n",
              "    const li = document.createElement('li');\n",
              "    li.append(span(file.name, {fontWeight: 'bold'}));\n",
              "    li.append(span(\n",
              "        `(${file.type || 'n/a'}) - ${file.size} bytes, ` +\n",
              "        `last modified: ${\n",
              "            file.lastModifiedDate ? file.lastModifiedDate.toLocaleDateString() :\n",
              "                                    'n/a'} - `));\n",
              "    const percent = span('0% done');\n",
              "    li.appendChild(percent);\n",
              "\n",
              "    outputElement.appendChild(li);\n",
              "\n",
              "    const fileDataPromise = new Promise((resolve) => {\n",
              "      const reader = new FileReader();\n",
              "      reader.onload = (e) => {\n",
              "        resolve(e.target.result);\n",
              "      };\n",
              "      reader.readAsArrayBuffer(file);\n",
              "    });\n",
              "    // Wait for the data to be ready.\n",
              "    let fileData = yield {\n",
              "      promise: fileDataPromise,\n",
              "      response: {\n",
              "        action: 'continue',\n",
              "      }\n",
              "    };\n",
              "\n",
              "    // Use a chunked sending to avoid message size limits. See b/62115660.\n",
              "    let position = 0;\n",
              "    do {\n",
              "      const length = Math.min(fileData.byteLength - position, MAX_PAYLOAD_SIZE);\n",
              "      const chunk = new Uint8Array(fileData, position, length);\n",
              "      position += length;\n",
              "\n",
              "      const base64 = btoa(String.fromCharCode.apply(null, chunk));\n",
              "      yield {\n",
              "        response: {\n",
              "          action: 'append',\n",
              "          file: file.name,\n",
              "          data: base64,\n",
              "        },\n",
              "      };\n",
              "\n",
              "      let percentDone = fileData.byteLength === 0 ?\n",
              "          100 :\n",
              "          Math.round((position / fileData.byteLength) * 100);\n",
              "      percent.textContent = `${percentDone}% done`;\n",
              "\n",
              "    } while (position < fileData.byteLength);\n",
              "  }\n",
              "\n",
              "  // All done.\n",
              "  yield {\n",
              "    response: {\n",
              "      action: 'complete',\n",
              "    }\n",
              "  };\n",
              "}\n",
              "\n",
              "scope.google = scope.google || {};\n",
              "scope.google.colab = scope.google.colab || {};\n",
              "scope.google.colab._files = {\n",
              "  _uploadFiles,\n",
              "  _uploadFilesContinue,\n",
              "};\n",
              "})(self);\n",
              "</script> "
            ]
          },
          "metadata": {}
        },
        {
          "output_type": "stream",
          "name": "stdout",
          "text": [
            "Saving kaggle.json to kaggle.json\n"
          ]
        },
        {
          "output_type": "execute_result",
          "data": {
            "text/plain": [
              "{'kaggle.json': b'{\"username\":\"elifsare\",\"key\":\"65fe5c557a5858f538b76c194afd0b9a\"}'}"
            ]
          },
          "metadata": {},
          "execution_count": 2
        }
      ]
    },
    {
      "cell_type": "code",
      "source": [
        "!mkdir -p ~/.kaggle\n",
        "!cp kaggle.json ~/.kaggle/\n",
        "!chmod 600 ~/.kaggle/kaggle.json"
      ],
      "metadata": {
        "id": "O2pxiDiWo9Fo"
      },
      "execution_count": 3,
      "outputs": []
    },
    {
      "cell_type": "code",
      "source": [
        "!kaggle datasets download -d ahmedmoorsy/facial-expression"
      ],
      "metadata": {
        "colab": {
          "base_uri": "https://localhost:8080/"
        },
        "id": "GMxtz0CCo9IC",
        "outputId": "807c5a96-89d0-45f6-fbfe-2304b8aa057d"
      },
      "execution_count": 4,
      "outputs": [
        {
          "output_type": "stream",
          "name": "stdout",
          "text": [
            "Downloading facial-expression.zip to /content\n",
            " 92% 177M/193M [00:03<00:00, 65.1MB/s]\n",
            "100% 193M/193M [00:03<00:00, 56.3MB/s]\n"
          ]
        }
      ]
    },
    {
      "cell_type": "code",
      "source": [
        "!mkdir face_dataset\n",
        "!unzip '/content/facial-expression.zip' -d face_dataset"
      ],
      "metadata": {
        "colab": {
          "base_uri": "https://localhost:8080/"
        },
        "id": "yemBjGEUo9Ko",
        "outputId": "88dbd6e9-5197-43e3-a050-7c4919ea7940"
      },
      "execution_count": 5,
      "outputs": [
        {
          "output_type": "stream",
          "name": "stdout",
          "text": [
            "Archive:  /content/facial-expression.zip\n",
            "  inflating: face_dataset/fer2013.csv  \n",
            "  inflating: face_dataset/fer2013/fer2013.csv  \n"
          ]
        }
      ]
    },
    {
      "cell_type": "markdown",
      "source": [
        "Importing Libraries"
      ],
      "metadata": {
        "id": "iVFXEyZg5brR"
      }
    },
    {
      "cell_type": "code",
      "source": [
        "import pandas as pd                       \n",
        "import numpy as np\n",
        "import matplotlib.pyplot as plt\n",
        "\n",
        "import tensorflow as tf \n",
        "\n",
        "from keras.models import Sequential     \n",
        "from keras.preprocessing import image \n",
        "from keras.preprocessing.image import ImageDataGenerator\n",
        "from keras.layers import Dense, Conv2D, MaxPooling2D , Flatten, Dropout, AveragePooling2D, Activation\n",
        "from keras.optimizers import SGD, Adam      \n",
        "from keras.utils import np_utils  \n",
        "from tensorflow.keras.layers import BatchNormalization\n",
        "from keras.callbacks import ModelCheckpoint, EarlyStopping, ReduceLROnPlateau"
      ],
      "metadata": {
        "id": "3VPB0FVdo9My"
      },
      "execution_count": 6,
      "outputs": []
    },
    {
      "cell_type": "code",
      "source": [
        "data  = pd.read_csv('/content/face_dataset/fer2013.csv')\n",
        "data .head()"
      ],
      "metadata": {
        "colab": {
          "base_uri": "https://localhost:8080/",
          "height": 206
        },
        "id": "txJLsJ8_o9PI",
        "outputId": "3e327517-0907-4582-9d25-8855cfe4089e"
      },
      "execution_count": 7,
      "outputs": [
        {
          "output_type": "execute_result",
          "data": {
            "text/plain": [
              "   emotion                                             pixels     Usage\n",
              "0        0  70 80 82 72 58 58 60 63 54 58 60 48 89 115 121...  Training\n",
              "1        0  151 150 147 155 148 133 111 140 170 174 182 15...  Training\n",
              "2        2  231 212 156 164 174 138 161 173 182 200 106 38...  Training\n",
              "3        4  24 32 36 30 32 23 19 20 30 41 21 22 32 34 21 1...  Training\n",
              "4        6  4 0 0 0 0 0 0 0 0 0 0 0 3 15 23 28 48 50 58 84...  Training"
            ],
            "text/html": [
              "\n",
              "  <div id=\"df-ca17cd6d-42e2-43ee-b794-fad4af29b0a4\">\n",
              "    <div class=\"colab-df-container\">\n",
              "      <div>\n",
              "<style scoped>\n",
              "    .dataframe tbody tr th:only-of-type {\n",
              "        vertical-align: middle;\n",
              "    }\n",
              "\n",
              "    .dataframe tbody tr th {\n",
              "        vertical-align: top;\n",
              "    }\n",
              "\n",
              "    .dataframe thead th {\n",
              "        text-align: right;\n",
              "    }\n",
              "</style>\n",
              "<table border=\"1\" class=\"dataframe\">\n",
              "  <thead>\n",
              "    <tr style=\"text-align: right;\">\n",
              "      <th></th>\n",
              "      <th>emotion</th>\n",
              "      <th>pixels</th>\n",
              "      <th>Usage</th>\n",
              "    </tr>\n",
              "  </thead>\n",
              "  <tbody>\n",
              "    <tr>\n",
              "      <th>0</th>\n",
              "      <td>0</td>\n",
              "      <td>70 80 82 72 58 58 60 63 54 58 60 48 89 115 121...</td>\n",
              "      <td>Training</td>\n",
              "    </tr>\n",
              "    <tr>\n",
              "      <th>1</th>\n",
              "      <td>0</td>\n",
              "      <td>151 150 147 155 148 133 111 140 170 174 182 15...</td>\n",
              "      <td>Training</td>\n",
              "    </tr>\n",
              "    <tr>\n",
              "      <th>2</th>\n",
              "      <td>2</td>\n",
              "      <td>231 212 156 164 174 138 161 173 182 200 106 38...</td>\n",
              "      <td>Training</td>\n",
              "    </tr>\n",
              "    <tr>\n",
              "      <th>3</th>\n",
              "      <td>4</td>\n",
              "      <td>24 32 36 30 32 23 19 20 30 41 21 22 32 34 21 1...</td>\n",
              "      <td>Training</td>\n",
              "    </tr>\n",
              "    <tr>\n",
              "      <th>4</th>\n",
              "      <td>6</td>\n",
              "      <td>4 0 0 0 0 0 0 0 0 0 0 0 3 15 23 28 48 50 58 84...</td>\n",
              "      <td>Training</td>\n",
              "    </tr>\n",
              "  </tbody>\n",
              "</table>\n",
              "</div>\n",
              "      <button class=\"colab-df-convert\" onclick=\"convertToInteractive('df-ca17cd6d-42e2-43ee-b794-fad4af29b0a4')\"\n",
              "              title=\"Convert this dataframe to an interactive table.\"\n",
              "              style=\"display:none;\">\n",
              "        \n",
              "  <svg xmlns=\"http://www.w3.org/2000/svg\" height=\"24px\"viewBox=\"0 0 24 24\"\n",
              "       width=\"24px\">\n",
              "    <path d=\"M0 0h24v24H0V0z\" fill=\"none\"/>\n",
              "    <path d=\"M18.56 5.44l.94 2.06.94-2.06 2.06-.94-2.06-.94-.94-2.06-.94 2.06-2.06.94zm-11 1L8.5 8.5l.94-2.06 2.06-.94-2.06-.94L8.5 2.5l-.94 2.06-2.06.94zm10 10l.94 2.06.94-2.06 2.06-.94-2.06-.94-.94-2.06-.94 2.06-2.06.94z\"/><path d=\"M17.41 7.96l-1.37-1.37c-.4-.4-.92-.59-1.43-.59-.52 0-1.04.2-1.43.59L10.3 9.45l-7.72 7.72c-.78.78-.78 2.05 0 2.83L4 21.41c.39.39.9.59 1.41.59.51 0 1.02-.2 1.41-.59l7.78-7.78 2.81-2.81c.8-.78.8-2.07 0-2.86zM5.41 20L4 18.59l7.72-7.72 1.47 1.35L5.41 20z\"/>\n",
              "  </svg>\n",
              "      </button>\n",
              "      \n",
              "  <style>\n",
              "    .colab-df-container {\n",
              "      display:flex;\n",
              "      flex-wrap:wrap;\n",
              "      gap: 12px;\n",
              "    }\n",
              "\n",
              "    .colab-df-convert {\n",
              "      background-color: #E8F0FE;\n",
              "      border: none;\n",
              "      border-radius: 50%;\n",
              "      cursor: pointer;\n",
              "      display: none;\n",
              "      fill: #1967D2;\n",
              "      height: 32px;\n",
              "      padding: 0 0 0 0;\n",
              "      width: 32px;\n",
              "    }\n",
              "\n",
              "    .colab-df-convert:hover {\n",
              "      background-color: #E2EBFA;\n",
              "      box-shadow: 0px 1px 2px rgba(60, 64, 67, 0.3), 0px 1px 3px 1px rgba(60, 64, 67, 0.15);\n",
              "      fill: #174EA6;\n",
              "    }\n",
              "\n",
              "    [theme=dark] .colab-df-convert {\n",
              "      background-color: #3B4455;\n",
              "      fill: #D2E3FC;\n",
              "    }\n",
              "\n",
              "    [theme=dark] .colab-df-convert:hover {\n",
              "      background-color: #434B5C;\n",
              "      box-shadow: 0px 1px 3px 1px rgba(0, 0, 0, 0.15);\n",
              "      filter: drop-shadow(0px 1px 2px rgba(0, 0, 0, 0.3));\n",
              "      fill: #FFFFFF;\n",
              "    }\n",
              "  </style>\n",
              "\n",
              "      <script>\n",
              "        const buttonEl =\n",
              "          document.querySelector('#df-ca17cd6d-42e2-43ee-b794-fad4af29b0a4 button.colab-df-convert');\n",
              "        buttonEl.style.display =\n",
              "          google.colab.kernel.accessAllowed ? 'block' : 'none';\n",
              "\n",
              "        async function convertToInteractive(key) {\n",
              "          const element = document.querySelector('#df-ca17cd6d-42e2-43ee-b794-fad4af29b0a4');\n",
              "          const dataTable =\n",
              "            await google.colab.kernel.invokeFunction('convertToInteractive',\n",
              "                                                     [key], {});\n",
              "          if (!dataTable) return;\n",
              "\n",
              "          const docLinkHtml = 'Like what you see? Visit the ' +\n",
              "            '<a target=\"_blank\" href=https://colab.research.google.com/notebooks/data_table.ipynb>data table notebook</a>'\n",
              "            + ' to learn more about interactive tables.';\n",
              "          element.innerHTML = '';\n",
              "          dataTable['output_type'] = 'display_data';\n",
              "          await google.colab.output.renderOutput(dataTable, element);\n",
              "          const docLink = document.createElement('div');\n",
              "          docLink.innerHTML = docLinkHtml;\n",
              "          element.appendChild(docLink);\n",
              "        }\n",
              "      </script>\n",
              "    </div>\n",
              "  </div>\n",
              "  "
            ]
          },
          "metadata": {},
          "execution_count": 7
        }
      ]
    },
    {
      "cell_type": "code",
      "source": [
        "data[\"Usage\"].value_counts()"
      ],
      "metadata": {
        "colab": {
          "base_uri": "https://localhost:8080/"
        },
        "id": "TYvbXb2iuc6N",
        "outputId": "50dea25a-53da-4844-fa5a-adb957ad31ed"
      },
      "execution_count": 8,
      "outputs": [
        {
          "output_type": "execute_result",
          "data": {
            "text/plain": [
              "Training       28709\n",
              "PublicTest      3589\n",
              "PrivateTest     3589\n",
              "Name: Usage, dtype: int64"
            ]
          },
          "metadata": {},
          "execution_count": 8
        }
      ]
    },
    {
      "cell_type": "code",
      "source": [
        "train_data = data[data.Usage == \"Training\"]"
      ],
      "metadata": {
        "id": "9W9sL_Wiuk6S"
      },
      "execution_count": 9,
      "outputs": []
    },
    {
      "cell_type": "code",
      "source": [
        "# train sette örneklerin pikselleri tablo halinde biz liste yapıyoruz boşluklardan parse ederek\n",
        "train_pixels = train_data.pixels.str.split(\" \").tolist()"
      ],
      "metadata": {
        "id": "EIXs4Bv0u2QF"
      },
      "execution_count": 10,
      "outputs": []
    },
    {
      "cell_type": "code",
      "source": [
        "train_pixels = pd.DataFrame(train_pixels, dtype=int)\n",
        "train_img = train_pixels.values\n",
        "train_img = train_img.astype(np.float)\n",
        "\n",
        "print(train_img)\n",
        "print(train_img.shape)"
      ],
      "metadata": {
        "colab": {
          "base_uri": "https://localhost:8080/"
        },
        "id": "lXp5n5fgvWOK",
        "outputId": "84d2f4ad-0eaa-461d-dfc8-3a5da0edc357"
      },
      "execution_count": 11,
      "outputs": [
        {
          "output_type": "stream",
          "name": "stderr",
          "text": [
            "/usr/local/lib/python3.7/dist-packages/IPython/core/interactiveshell.py:3326: FutureWarning: Could not cast to int64, falling back to object. This behavior is deprecated. In a future version, when a dtype is passed to 'DataFrame', either all columns will be cast to that dtype, or a TypeError will be raised\n",
            "  exec(code_obj, self.user_global_ns, self.user_ns)\n"
          ]
        },
        {
          "output_type": "stream",
          "name": "stdout",
          "text": [
            "[[ 70.  80.  82. ... 106. 109.  82.]\n",
            " [151. 150. 147. ... 193. 183. 184.]\n",
            " [231. 212. 156. ...  88. 110. 152.]\n",
            " ...\n",
            " [ 74.  81.  87. ... 188. 187. 187.]\n",
            " [222. 227. 203. ... 136. 136. 134.]\n",
            " [195. 199. 205. ...   6.  15.  38.]]\n",
            "(28709, 2304)\n"
          ]
        },
        {
          "output_type": "stream",
          "name": "stderr",
          "text": [
            "/usr/local/lib/python3.7/dist-packages/ipykernel_launcher.py:3: DeprecationWarning: `np.float` is a deprecated alias for the builtin `float`. To silence this warning, use `float` by itself. Doing this will not modify any behavior and is safe. If you specifically wanted the numpy scalar type, use `np.float64` here.\n",
            "Deprecated in NumPy 1.20; for more details and guidance: https://numpy.org/devdocs/release/1.20.0-notes.html#deprecations\n",
            "  This is separate from the ipykernel package so we can avoid doing imports until\n"
          ]
        }
      ]
    },
    {
      "cell_type": "code",
      "source": [
        "# reshape 48x48\n",
        "def show(img):\n",
        "  show_img = img.reshape(48,48)\n",
        "  plt.axis('off')\n",
        "  plt.imshow(show_img, cmap = 'gray')\n",
        "\n",
        "show(train_img[55])"
      ],
      "metadata": {
        "colab": {
          "base_uri": "https://localhost:8080/",
          "height": 248
        },
        "id": "D6S_6cGSwK2T",
        "outputId": "1349093a-78e1-4b39-caf5-d47554dfa7be"
      },
      "execution_count": 12,
      "outputs": [
        {
          "output_type": "display_data",
          "data": {
            "text/plain": [
              "<Figure size 432x288 with 1 Axes>"
            ],
            "image/png": "[encoded data removed]"
          },
          "metadata": {
            "needs_background": "light"
          }
        }
      ]
    },
    {
      "cell_type": "markdown",
      "source": [
        "Test verisi ön işleme"
      ],
      "metadata": {
        "id": "bYehfzPuxbkt"
      }
    },
    {
      "cell_type": "code",
      "source": [
        "# test piksellerini de düzenleyerek matris haline getiriyoruz\n",
        "test_data = data[data.Usage == 'PublicTest']\n",
        "test_pixels = test_data.pixels.str.split(\" \").tolist()\n",
        "test_pixels = pd.DataFrame(test_pixels, dtype = int)\n",
        "test_img = test_pixels.values\n",
        "test_img = test_img.astype(np.float)\n",
        "\n",
        "print(test_img.shape)"
      ],
      "metadata": {
        "colab": {
          "base_uri": "https://localhost:8080/"
        },
        "id": "aEG7CmmZxeF1",
        "outputId": "24fc1e86-20e2-4c8c-f534-49c3cd2db467"
      },
      "execution_count": 13,
      "outputs": [
        {
          "output_type": "stream",
          "name": "stdout",
          "text": [
            "(3589, 2304)\n"
          ]
        },
        {
          "output_type": "stream",
          "name": "stderr",
          "text": [
            "/usr/local/lib/python3.7/dist-packages/ipykernel_launcher.py:6: DeprecationWarning: `np.float` is a deprecated alias for the builtin `float`. To silence this warning, use `float` by itself. Doing this will not modify any behavior and is safe. If you specifically wanted the numpy scalar type, use `np.float64` here.\n",
            "Deprecated in NumPy 1.20; for more details and guidance: https://numpy.org/devdocs/release/1.20.0-notes.html#deprecations\n",
            "  \n"
          ]
        }
      ]
    },
    {
      "cell_type": "code",
      "source": [
        "show(test_img[3001])"
      ],
      "metadata": {
        "colab": {
          "base_uri": "https://localhost:8080/",
          "height": 248
        },
        "id": "ZrnCFVj-ya9S",
        "outputId": "c6368319-a443-402b-e400-1434874e40b7"
      },
      "execution_count": 14,
      "outputs": [
        {
          "output_type": "display_data",
          "data": {
            "text/plain": [
              "<Figure size 432x288 with 1 Axes>"
            ],
            "image/png": "[encoded data removed]"
          },
          "metadata": {
            "needs_background": "light"
          }
        }
      ]
    },
    {
      "cell_type": "code",
      "source": [
        "with open('/content/face_dataset/fer2013.csv') as f:\n",
        "    content = f.readlines()\n",
        "\n",
        "lines = np.array(content)\n",
        "num_of_instances = lines.size\n",
        "\n",
        "print(\"number of instances: \",num_of_instances)\n",
        "print(\"instance length: \",len(lines[1].split(\",\")[1].split(\" \")))"
      ],
      "metadata": {
        "colab": {
          "base_uri": "https://localhost:8080/"
        },
        "id": "U450YVNXy6-X",
        "outputId": "cca9b4ad-7b6c-4e19-eb40-794b2cb2a006"
      },
      "execution_count": 15,
      "outputs": [
        {
          "output_type": "stream",
          "name": "stdout",
          "text": [
            "number of instances:  35888\n",
            "instance length:  2304\n"
          ]
        }
      ]
    },
    {
      "cell_type": "code",
      "source": [
        "X_train = []      #train pixels\n",
        "y_train = []      #train labels\n",
        "X_test = []       #test pixels\n",
        "y_test = []       #test label\n",
        "\n",
        "num_classes = 7\n",
        "# Test ve eğitim verisinin transfer edilmesi\n",
        "for i in range(1, num_of_instances):\n",
        "    \n",
        "    emotion, img, usage = lines[i].split(\",\")\n",
        "      \n",
        "    val = img.split(\" \")\n",
        "        \n",
        "    pixels = np.array(val, 'float32')\n",
        "         \n",
        "    emotion = tf.keras.utils.to_categorical(emotion, num_classes)\n",
        "    \n",
        "    if 'Training' in usage:\n",
        "        y_train.append(emotion)\n",
        "        X_train.append(pixels)\n",
        "\n",
        "    elif 'PublicTest' in usage:\n",
        "        y_test.append(emotion)\n",
        "        X_test.append(pixels)"
      ],
      "metadata": {
        "id": "mvs-XQnPzPAb"
      },
      "execution_count": 17,
      "outputs": []
    },
    {
      "cell_type": "code",
      "source": [
        "# Eğtitim ve test kümelerinin diziye tranformasyonu\n",
        "X_train = np.array(X_train, 'float32')\n",
        "y_train = np.array(y_train, 'float32')\n",
        "X_test = np.array(X_test, 'float32')\n",
        "y_test = np.array(y_test, 'float32')\n",
        "\n",
        "X_train /= 255 # [0, 1] aralığına normalize etme işlemi\n",
        "X_test /= 255\n",
        "\n",
        "X_train = X_train.reshape(X_train.shape[0], 48, 48, 1)\n",
        "X_train = X_train.astype('float32')\n",
        "X_test = X_test.reshape(X_test.shape[0], 48, 48, 1)\n",
        "X_test = X_test.astype('float32')\n",
        "\n",
        "print(X_train.shape[0], 'train samples')\n",
        "print(X_test.shape[0], 'test samples')"
      ],
      "metadata": {
        "colab": {
          "base_uri": "https://localhost:8080/"
        },
        "id": "38fR8K9mzsvF",
        "outputId": "cf73150e-653d-4424-ad3e-5e62cecb5201"
      },
      "execution_count": 18,
      "outputs": [
        {
          "output_type": "stream",
          "name": "stdout",
          "text": [
            "28709 train samples\n",
            "3589 test samples\n"
          ]
        }
      ]
    },
    {
      "cell_type": "code",
      "source": [
        "#Batch (Küme) işlemleri\n",
        "num_classes = 7 #angry, disgust, fear, happy, sad, surprise, neutral\n",
        "batch_size = 100\n",
        "epochs = 50\n",
        "\n",
        "gen = ImageDataGenerator()\n",
        "train_generator = gen.flow(X_train, \n",
        "                           y_train,\n",
        "                           batch_size=batch_size,\n",
        "                           shuffle=True\n",
        "                           )\n",
        "train_generator.fit(X_train)\n",
        "\n",
        "test_generator = gen.flow(X_test, \n",
        "                           y_test,\n",
        "                           batch_size=batch_size,\n",
        "                           shuffle=False\n",
        "                           )"
      ],
      "metadata": {
        "id": "E_BvY14h6TgQ"
      },
      "execution_count": 19,
      "outputs": []
    },
    {
      "cell_type": "code",
      "source": [
        "model = Sequential()\n",
        "\n",
        "#1st CNN layer\n",
        "model.add(Conv2D(64,(3,3),padding = 'same',input_shape = (48,48,1)))\n",
        "model.add(BatchNormalization())\n",
        "model.add(Activation('relu'))\n",
        "model.add(MaxPooling2D(pool_size = (2,2)))\n",
        "model.add(Dropout(0.25))\n",
        "\n",
        "#2nd CNN layer\n",
        "model.add(Conv2D(128,(5,5),padding = 'same'))\n",
        "model.add(BatchNormalization())\n",
        "model.add(Activation('relu'))\n",
        "model.add(MaxPooling2D(pool_size = (2,2)))\n",
        "model.add(Dropout (0.25))\n",
        "\n",
        "#3rd CNN layer\n",
        "model.add(Conv2D(512,(3,3),padding = 'same'))\n",
        "model.add(BatchNormalization())\n",
        "model.add(Activation('relu'))\n",
        "model.add(MaxPooling2D(pool_size = (2,2)))\n",
        "model.add(Dropout (0.25))\n",
        "\n",
        "#4th CNN layer\n",
        "model.add(Conv2D(512,(3,3), padding='same'))\n",
        "model.add(BatchNormalization())\n",
        "model.add(Activation('relu'))\n",
        "model.add(MaxPooling2D(pool_size=(2, 2)))\n",
        "model.add(Dropout(0.25))\n",
        "\n",
        "model.add(Flatten())\n",
        "\n",
        "#Fully connected 1st layer\n",
        "model.add(Dense(256))\n",
        "model.add(BatchNormalization())\n",
        "model.add(Activation('relu'))\n",
        "model.add(Dropout(0.25))\n",
        "\n",
        "\n",
        "# Fully connected layer 2nd layer\n",
        "model.add(Dense(512))\n",
        "model.add(BatchNormalization())\n",
        "model.add(Activation('relu'))\n",
        "model.add(Dropout(0.25))\n",
        "\n",
        "model.add(Dense(num_classes, activation='softmax'))\n",
        "\n",
        "opt = Adam(lr = 0.0001)\n",
        "model.compile(optimizer=opt,loss='categorical_crossentropy', metrics=['accuracy'])\n",
        "\n",
        "model.summary()"
      ],
      "metadata": {
        "colab": {
          "base_uri": "https://localhost:8080/"
        },
        "id": "GGy45eAI0flU",
        "outputId": "4a8c8d74-8463-4270-d870-0ea15354b752"
      },
      "execution_count": 21,
      "outputs": [
        {
          "output_type": "stream",
          "name": "stdout",
          "text": [
            "Model: \"sequential_1\"\n",
            "_________________________________________________________________\n",
            " Layer (type)                Output Shape              Param #   \n",
            "=================================================================\n",
            " conv2d_4 (Conv2D)           (None, 48, 48, 64)        640       \n",
            "                                                                 \n",
            " batch_normalization_6 (Batc  (None, 48, 48, 64)       256       \n",
            " hNormalization)                                                 \n",
            "                                                                 \n",
            " activation_6 (Activation)   (None, 48, 48, 64)        0         \n",
            "                                                                 \n",
            " max_pooling2d_4 (MaxPooling  (None, 24, 24, 64)       0         \n",
            " 2D)                                                             \n",
            "                                                                 \n",
            " dropout_6 (Dropout)         (None, 24, 24, 64)        0         \n",
            "                                                                 \n",
            " conv2d_5 (Conv2D)           (None, 24, 24, 128)       204928    \n",
            "                                                                 \n",
            " batch_normalization_7 (Batc  (None, 24, 24, 128)      512       \n",
            " hNormalization)                                                 \n",
            "                                                                 \n",
            " activation_7 (Activation)   (None, 24, 24, 128)       0         \n",
            "                                                                 \n",
            " max_pooling2d_5 (MaxPooling  (None, 12, 12, 128)      0         \n",
            " 2D)                                                             \n",
            "                                                                 \n",
            " dropout_7 (Dropout)         (None, 12, 12, 128)       0         \n",
            "                                                                 \n",
            " conv2d_6 (Conv2D)           (None, 12, 12, 512)       590336    \n",
            "                                                                 \n",
            " batch_normalization_8 (Batc  (None, 12, 12, 512)      2048      \n",
            " hNormalization)                                                 \n",
            "                                                                 \n",
            " activation_8 (Activation)   (None, 12, 12, 512)       0         \n",
            "                                                                 \n",
            " max_pooling2d_6 (MaxPooling  (None, 6, 6, 512)        0         \n",
            " 2D)                                                             \n",
            "                                                                 \n",
            " dropout_8 (Dropout)         (None, 6, 6, 512)         0         \n",
            "                                                                 \n",
            " conv2d_7 (Conv2D)           (None, 6, 6, 512)         2359808   \n",
            "                                                                 \n",
            " batch_normalization_9 (Batc  (None, 6, 6, 512)        2048      \n",
            " hNormalization)                                                 \n",
            "                                                                 \n",
            " activation_9 (Activation)   (None, 6, 6, 512)         0         \n",
            "                                                                 \n",
            " max_pooling2d_7 (MaxPooling  (None, 3, 3, 512)        0         \n",
            " 2D)                                                             \n",
            "                                                                 \n",
            " dropout_9 (Dropout)         (None, 3, 3, 512)         0         \n",
            "                                                                 \n",
            " flatten_1 (Flatten)         (None, 4608)              0         \n",
            "                                                                 \n",
            " dense_2 (Dense)             (None, 256)               1179904   \n",
            "                                                                 \n",
            " batch_normalization_10 (Bat  (None, 256)              1024      \n",
            " chNormalization)                                                \n",
            "                                                                 \n",
            " activation_10 (Activation)  (None, 256)               0         \n",
            "                                                                 \n",
            " dropout_10 (Dropout)        (None, 256)               0         \n",
            "                                                                 \n",
            " dense_3 (Dense)             (None, 512)               131584    \n",
            "                                                                 \n",
            " batch_normalization_11 (Bat  (None, 512)              2048      \n",
            " chNormalization)                                                \n",
            "                                                                 \n",
            " activation_11 (Activation)  (None, 512)               0         \n",
            "                                                                 \n",
            " dropout_11 (Dropout)        (None, 512)               0         \n",
            "                                                                 \n",
            " dense_4 (Dense)             (None, 7)                 3591      \n",
            "                                                                 \n",
            "=================================================================\n",
            "Total params: 4,478,727\n",
            "Trainable params: 4,474,759\n",
            "Non-trainable params: 3,968\n",
            "_________________________________________________________________\n"
          ]
        },
        {
          "output_type": "stream",
          "name": "stderr",
          "text": [
            "/usr/local/lib/python3.7/dist-packages/keras/optimizers/optimizer_v2/adam.py:110: UserWarning: The `lr` argument is deprecated, use `learning_rate` instead.\n",
            "  super(Adam, self).__init__(name, **kwargs)\n"
          ]
        }
      ]
    },
    {
      "cell_type": "code",
      "source": [
        "# CheckPoint\n",
        "root = '/content/drive/MyDrive/DeepLearningProject/EmotionDetection/'\n",
        "checkPointer = ModelCheckpoint(root + 'checkPoint_model1.h5', verbose = 1, save_best_only = True)"
      ],
      "metadata": {
        "id": "iYDWHDI96jl1"
      },
      "execution_count": 22,
      "outputs": []
    },
    {
      "cell_type": "code",
      "source": [
        "# overfitting engelliyoruz\n",
        "# EarlyStop\n",
        "early_stopping = EarlyStopping(monitor='val_loss',\n",
        "                          min_delta=0,\n",
        "                          patience=20,\n",
        "                          verbose=1,\n",
        "                          restore_best_weights=True\n",
        "                          )\n",
        "\n",
        "reduce_learningrate = ReduceLROnPlateau(monitor='val_loss',\n",
        "                              factor=0.2,\n",
        "                              patience=15,\n",
        "                              verbose=1,\n",
        "                              min_delta=0.0001)\n",
        "\n",
        "callbacks_list = [early_stopping, checkPointer, reduce_learningrate]\n",
        "\n",
        "model.compile(loss='categorical_crossentropy',\n",
        "              optimizer = Adam(lr=0.001),\n",
        "              metrics=['accuracy'])"
      ],
      "metadata": {
        "id": "LQlTNz8u62ds"
      },
      "execution_count": 23,
      "outputs": []
    },
    {
      "cell_type": "code",
      "source": [
        "history = model.fit_generator(generator=train_generator,\n",
        "                                steps_per_epoch=batch_size,\n",
        "                                epochs=epochs,\n",
        "                                validation_data = test_generator,\n",
        "                                validation_steps = test_generator.n//test_generator.batch_size,\n",
        "                                callbacks=callbacks_list,\n",
        "                                shuffle = True,\n",
        "                                verbose=1\n",
        "                              )\n",
        "\n",
        "model_json = model.to_json()\n",
        "with open(\"model.json\", \"w\") as json_file:\n",
        "  json_file.write(model_json)\n",
        "  model.save_weights(\"/content/drive/MyDrive/DeepLearningProject/EmotionDetection/model1.h5\")\n",
        "\n",
        "  model.save('/content/drive/MyDrive/DeepLearningProject/EmotionDetection/model1.h5')"
      ],
      "metadata": {
        "colab": {
          "base_uri": "https://localhost:8080/"
        },
        "id": "0XTmgrv47W2c",
        "outputId": "c2337599-7216-458d-8edd-845baca14b27"
      },
      "execution_count": 24,
      "outputs": [
        {
          "output_type": "stream",
          "name": "stderr",
          "text": [
            "/usr/local/lib/python3.7/dist-packages/ipykernel_launcher.py:8: UserWarning: `Model.fit_generator` is deprecated and will be removed in a future version. Please use `Model.fit`, which supports generators.\n",
            "  \n"
          ]
        },
        {
          "output_type": "stream",
          "name": "stdout",
          "text": [
            "Epoch 1/50\n",
            "100/100 [==============================] - ETA: 0s - loss: 1.9769 - accuracy: 0.2398\n",
            "Epoch 1: val_loss improved from inf to 1.91039, saving model to /content/drive/MyDrive/DeepLearningProject/EmotionDetection/checkPoint_model1.h5\n",
            "100/100 [==============================] - 19s 83ms/step - loss: 1.9769 - accuracy: 0.2398 - val_loss: 1.9104 - val_accuracy: 0.2389 - lr: 0.0010\n",
            "Epoch 2/50\n",
            " 99/100 [============================>.] - ETA: 0s - loss: 1.7734 - accuracy: 0.3104\n",
            "Epoch 2: val_loss did not improve from 1.91039\n",
            "100/100 [==============================] - 5s 47ms/step - loss: 1.7718 - accuracy: 0.3110 - val_loss: 2.1275 - val_accuracy: 0.2500 - lr: 0.0010\n",
            "Epoch 3/50\n",
            " 99/100 [============================>.] - ETA: 0s - loss: 1.5952 - accuracy: 0.3823\n",
            "Epoch 3: val_loss did not improve from 1.91039\n",
            "100/100 [==============================] - 4s 43ms/step - loss: 1.5944 - accuracy: 0.3829 - val_loss: 1.9931 - val_accuracy: 0.2720 - lr: 0.0010\n",
            "Epoch 4/50\n",
            " 99/100 [============================>.] - ETA: 0s - loss: 1.4711 - accuracy: 0.4371\n",
            "Epoch 4: val_loss did not improve from 1.91039\n",
            "100/100 [==============================] - 4s 44ms/step - loss: 1.4705 - accuracy: 0.4373 - val_loss: 1.9702 - val_accuracy: 0.2580 - lr: 0.0010\n",
            "Epoch 5/50\n",
            "100/100 [==============================] - ETA: 0s - loss: 1.3866 - accuracy: 0.4745\n",
            "Epoch 5: val_loss improved from 1.91039 to 1.57015, saving model to /content/drive/MyDrive/DeepLearningProject/EmotionDetection/checkPoint_model1.h5\n",
            "100/100 [==============================] - 5s 54ms/step - loss: 1.3866 - accuracy: 0.4745 - val_loss: 1.5702 - val_accuracy: 0.3549 - lr: 0.0010\n",
            "Epoch 6/50\n",
            "100/100 [==============================] - ETA: 0s - loss: 1.3173 - accuracy: 0.4926\n",
            "Epoch 6: val_loss did not improve from 1.57015\n",
            "100/100 [==============================] - 4s 44ms/step - loss: 1.3173 - accuracy: 0.4926 - val_loss: 1.6286 - val_accuracy: 0.4097 - lr: 0.0010\n",
            "Epoch 7/50\n",
            " 99/100 [============================>.] - ETA: 0s - loss: 1.2593 - accuracy: 0.5217\n",
            "Epoch 7: val_loss improved from 1.57015 to 1.31145, saving model to /content/drive/MyDrive/DeepLearningProject/EmotionDetection/checkPoint_model1.h5\n",
            "100/100 [==============================] - 5s 51ms/step - loss: 1.2590 - accuracy: 0.5223 - val_loss: 1.3115 - val_accuracy: 0.4903 - lr: 0.0010\n",
            "Epoch 8/50\n",
            " 99/100 [============================>.] - ETA: 0s - loss: 1.2267 - accuracy: 0.5321\n",
            "Epoch 8: val_loss improved from 1.31145 to 1.29425, saving model to /content/drive/MyDrive/DeepLearningProject/EmotionDetection/checkPoint_model1.h5\n",
            "100/100 [==============================] - 5s 47ms/step - loss: 1.2269 - accuracy: 0.5321 - val_loss: 1.2943 - val_accuracy: 0.5020 - lr: 0.0010\n",
            "Epoch 9/50\n",
            " 99/100 [============================>.] - ETA: 0s - loss: 1.2292 - accuracy: 0.5328\n",
            "Epoch 9: val_loss did not improve from 1.29425\n",
            "100/100 [==============================] - 4s 43ms/step - loss: 1.2297 - accuracy: 0.5323 - val_loss: 1.4212 - val_accuracy: 0.4534 - lr: 0.0010\n",
            "Epoch 10/50\n",
            " 99/100 [============================>.] - ETA: 0s - loss: 1.1761 - accuracy: 0.5526\n",
            "Epoch 10: val_loss improved from 1.29425 to 1.25177, saving model to /content/drive/MyDrive/DeepLearningProject/EmotionDetection/checkPoint_model1.h5\n",
            "100/100 [==============================] - 5s 46ms/step - loss: 1.1760 - accuracy: 0.5523 - val_loss: 1.2518 - val_accuracy: 0.5151 - lr: 0.0010\n",
            "Epoch 11/50\n",
            " 99/100 [============================>.] - ETA: 0s - loss: 1.1776 - accuracy: 0.5560\n",
            "Epoch 11: val_loss improved from 1.25177 to 1.23695, saving model to /content/drive/MyDrive/DeepLearningProject/EmotionDetection/checkPoint_model1.h5\n",
            "100/100 [==============================] - 5s 46ms/step - loss: 1.1785 - accuracy: 0.5560 - val_loss: 1.2370 - val_accuracy: 0.5294 - lr: 0.0010\n",
            "Epoch 12/50\n",
            " 99/100 [============================>.] - ETA: 0s - loss: 1.1240 - accuracy: 0.5718\n",
            "Epoch 12: val_loss did not improve from 1.23695\n",
            "100/100 [==============================] - 4s 43ms/step - loss: 1.1244 - accuracy: 0.5720 - val_loss: 1.9004 - val_accuracy: 0.3209 - lr: 0.0010\n",
            "Epoch 13/50\n",
            " 99/100 [============================>.] - ETA: 0s - loss: 1.1001 - accuracy: 0.5812\n",
            "Epoch 13: val_loss improved from 1.23695 to 1.16032, saving model to /content/drive/MyDrive/DeepLearningProject/EmotionDetection/checkPoint_model1.h5\n",
            "100/100 [==============================] - 5s 47ms/step - loss: 1.1020 - accuracy: 0.5815 - val_loss: 1.1603 - val_accuracy: 0.5569 - lr: 0.0010\n",
            "Epoch 14/50\n",
            " 99/100 [============================>.] - ETA: 0s - loss: 1.0949 - accuracy: 0.5882\n",
            "Epoch 14: val_loss did not improve from 1.16032\n",
            "100/100 [==============================] - 4s 44ms/step - loss: 1.0942 - accuracy: 0.5883 - val_loss: 1.2750 - val_accuracy: 0.5249 - lr: 0.0010\n",
            "Epoch 15/50\n",
            " 99/100 [============================>.] - ETA: 0s - loss: 1.0983 - accuracy: 0.5873\n",
            "Epoch 15: val_loss did not improve from 1.16032\n",
            "100/100 [==============================] - 4s 44ms/step - loss: 1.0973 - accuracy: 0.5878 - val_loss: 1.3051 - val_accuracy: 0.5123 - lr: 0.0010\n",
            "Epoch 16/50\n",
            " 99/100 [============================>.] - ETA: 0s - loss: 1.0594 - accuracy: 0.6034\n",
            "Epoch 16: val_loss did not improve from 1.16032\n",
            "100/100 [==============================] - 4s 43ms/step - loss: 1.0592 - accuracy: 0.6036 - val_loss: 1.4657 - val_accuracy: 0.4423 - lr: 0.0010\n",
            "Epoch 17/50\n",
            " 99/100 [============================>.] - ETA: 0s - loss: 1.0461 - accuracy: 0.6033\n",
            "Epoch 17: val_loss did not improve from 1.16032\n",
            "100/100 [==============================] - 4s 44ms/step - loss: 1.0466 - accuracy: 0.6026 - val_loss: 1.2525 - val_accuracy: 0.5126 - lr: 0.0010\n",
            "Epoch 18/50\n",
            " 99/100 [============================>.] - ETA: 0s - loss: 1.0185 - accuracy: 0.6139\n",
            "Epoch 18: val_loss improved from 1.16032 to 1.13590, saving model to /content/drive/MyDrive/DeepLearningProject/EmotionDetection/checkPoint_model1.h5\n",
            "100/100 [==============================] - 5s 55ms/step - loss: 1.0174 - accuracy: 0.6149 - val_loss: 1.1359 - val_accuracy: 0.5740 - lr: 0.0010\n",
            "Epoch 19/50\n",
            " 99/100 [============================>.] - ETA: 0s - loss: 0.9881 - accuracy: 0.6288\n",
            "Epoch 19: val_loss did not improve from 1.13590\n",
            "100/100 [==============================] - 4s 44ms/step - loss: 0.9888 - accuracy: 0.6283 - val_loss: 1.2260 - val_accuracy: 0.5289 - lr: 0.0010\n",
            "Epoch 20/50\n",
            " 99/100 [============================>.] - ETA: 0s - loss: 0.9690 - accuracy: 0.6343\n",
            "Epoch 20: val_loss did not improve from 1.13590\n",
            "100/100 [==============================] - 4s 44ms/step - loss: 0.9669 - accuracy: 0.6358 - val_loss: 1.1738 - val_accuracy: 0.5763 - lr: 0.0010\n",
            "Epoch 21/50\n",
            " 99/100 [============================>.] - ETA: 0s - loss: 0.9646 - accuracy: 0.6383\n",
            "Epoch 21: val_loss did not improve from 1.13590\n",
            "100/100 [==============================] - 4s 45ms/step - loss: 0.9665 - accuracy: 0.6377 - val_loss: 1.2909 - val_accuracy: 0.5391 - lr: 0.0010\n",
            "Epoch 22/50\n",
            " 99/100 [============================>.] - ETA: 0s - loss: 0.9461 - accuracy: 0.6452\n",
            "Epoch 22: val_loss improved from 1.13590 to 1.12650, saving model to /content/drive/MyDrive/DeepLearningProject/EmotionDetection/checkPoint_model1.h5\n",
            "100/100 [==============================] - 5s 54ms/step - loss: 0.9450 - accuracy: 0.6452 - val_loss: 1.1265 - val_accuracy: 0.5766 - lr: 0.0010\n",
            "Epoch 23/50\n",
            " 99/100 [============================>.] - ETA: 0s - loss: 0.9476 - accuracy: 0.6401\n",
            "Epoch 23: val_loss improved from 1.12650 to 1.11698, saving model to /content/drive/MyDrive/DeepLearningProject/EmotionDetection/checkPoint_model1.h5\n",
            "100/100 [==============================] - 5s 47ms/step - loss: 0.9494 - accuracy: 0.6392 - val_loss: 1.1170 - val_accuracy: 0.5711 - lr: 0.0010\n",
            "Epoch 24/50\n",
            " 99/100 [============================>.] - ETA: 0s - loss: 0.9117 - accuracy: 0.6624\n",
            "Epoch 24: val_loss did not improve from 1.11698\n",
            "100/100 [==============================] - 4s 44ms/step - loss: 0.9118 - accuracy: 0.6615 - val_loss: 1.2137 - val_accuracy: 0.5549 - lr: 0.0010\n",
            "Epoch 25/50\n",
            " 99/100 [============================>.] - ETA: 0s - loss: 0.9235 - accuracy: 0.6545\n",
            "Epoch 25: val_loss improved from 1.11698 to 1.09393, saving model to /content/drive/MyDrive/DeepLearningProject/EmotionDetection/checkPoint_model1.h5\n",
            "100/100 [==============================] - 5s 47ms/step - loss: 0.9240 - accuracy: 0.6538 - val_loss: 1.0939 - val_accuracy: 0.5877 - lr: 0.0010\n",
            "Epoch 26/50\n",
            " 99/100 [============================>.] - ETA: 0s - loss: 0.8852 - accuracy: 0.6713\n",
            "Epoch 26: val_loss did not improve from 1.09393\n",
            "100/100 [==============================] - 4s 45ms/step - loss: 0.8880 - accuracy: 0.6701 - val_loss: 1.2718 - val_accuracy: 0.5449 - lr: 0.0010\n",
            "Epoch 27/50\n",
            " 99/100 [============================>.] - ETA: 0s - loss: 0.8712 - accuracy: 0.6746\n",
            "Epoch 27: val_loss did not improve from 1.09393\n",
            "100/100 [==============================] - 4s 44ms/step - loss: 0.8699 - accuracy: 0.6747 - val_loss: 1.2703 - val_accuracy: 0.5423 - lr: 0.0010\n",
            "Epoch 28/50\n",
            " 99/100 [============================>.] - ETA: 0s - loss: 0.8698 - accuracy: 0.6742\n",
            "Epoch 28: val_loss improved from 1.09393 to 1.05943, saving model to /content/drive/MyDrive/DeepLearningProject/EmotionDetection/checkPoint_model1.h5\n",
            "100/100 [==============================] - 5s 53ms/step - loss: 0.8707 - accuracy: 0.6741 - val_loss: 1.0594 - val_accuracy: 0.6074 - lr: 0.0010\n",
            "Epoch 29/50\n",
            " 99/100 [============================>.] - ETA: 0s - loss: 0.8448 - accuracy: 0.6887\n",
            "Epoch 29: val_loss did not improve from 1.05943\n",
            "100/100 [==============================] - 5s 46ms/step - loss: 0.8460 - accuracy: 0.6883 - val_loss: 1.3702 - val_accuracy: 0.5349 - lr: 0.0010\n",
            "Epoch 30/50\n",
            " 99/100 [============================>.] - ETA: 0s - loss: 0.8281 - accuracy: 0.6931\n",
            "Epoch 30: val_loss did not improve from 1.05943\n",
            "100/100 [==============================] - 4s 45ms/step - loss: 0.8297 - accuracy: 0.6930 - val_loss: 1.1578 - val_accuracy: 0.5749 - lr: 0.0010\n",
            "Epoch 31/50\n",
            "100/100 [==============================] - ETA: 0s - loss: 0.8242 - accuracy: 0.6873\n",
            "Epoch 31: val_loss did not improve from 1.05943\n",
            "100/100 [==============================] - 5s 45ms/step - loss: 0.8242 - accuracy: 0.6873 - val_loss: 1.3345 - val_accuracy: 0.5134 - lr: 0.0010\n",
            "Epoch 32/50\n",
            " 99/100 [============================>.] - ETA: 0s - loss: 0.8022 - accuracy: 0.7007\n",
            "Epoch 32: val_loss did not improve from 1.05943\n",
            "100/100 [==============================] - 4s 45ms/step - loss: 0.8000 - accuracy: 0.7015 - val_loss: 1.1776 - val_accuracy: 0.5763 - lr: 0.0010\n",
            "Epoch 33/50\n",
            " 99/100 [============================>.] - ETA: 0s - loss: 0.7956 - accuracy: 0.7042\n",
            "Epoch 33: val_loss did not improve from 1.05943\n",
            "100/100 [==============================] - 4s 45ms/step - loss: 0.7961 - accuracy: 0.7040 - val_loss: 1.2224 - val_accuracy: 0.5557 - lr: 0.0010\n",
            "Epoch 34/50\n",
            " 99/100 [============================>.] - ETA: 0s - loss: 0.7530 - accuracy: 0.7218\n",
            "Epoch 34: val_loss did not improve from 1.05943\n",
            "100/100 [==============================] - 5s 45ms/step - loss: 0.7535 - accuracy: 0.7213 - val_loss: 1.1771 - val_accuracy: 0.5897 - lr: 0.0010\n",
            "Epoch 35/50\n",
            " 99/100 [============================>.] - ETA: 0s - loss: 0.7658 - accuracy: 0.7096\n",
            "Epoch 35: val_loss did not improve from 1.05943\n",
            "100/100 [==============================] - 5s 45ms/step - loss: 0.7666 - accuracy: 0.7092 - val_loss: 1.2531 - val_accuracy: 0.5434 - lr: 0.0010\n",
            "Epoch 36/50\n",
            " 99/100 [============================>.] - ETA: 0s - loss: 0.7269 - accuracy: 0.7288\n",
            "Epoch 36: val_loss did not improve from 1.05943\n",
            "100/100 [==============================] - 5s 45ms/step - loss: 0.7272 - accuracy: 0.7286 - val_loss: 1.3214 - val_accuracy: 0.5369 - lr: 0.0010\n",
            "Epoch 37/50\n",
            " 99/100 [============================>.] - ETA: 0s - loss: 0.7335 - accuracy: 0.7277\n",
            "Epoch 37: val_loss did not improve from 1.05943\n",
            "100/100 [==============================] - 5s 45ms/step - loss: 0.7323 - accuracy: 0.7280 - val_loss: 1.0960 - val_accuracy: 0.6080 - lr: 0.0010\n",
            "Epoch 38/50\n",
            " 99/100 [============================>.] - ETA: 0s - loss: 0.7026 - accuracy: 0.7429\n",
            "Epoch 38: val_loss did not improve from 1.05943\n",
            "100/100 [==============================] - 5s 45ms/step - loss: 0.7029 - accuracy: 0.7430 - val_loss: 1.1185 - val_accuracy: 0.6037 - lr: 0.0010\n",
            "Epoch 39/50\n",
            " 99/100 [============================>.] - ETA: 0s - loss: 0.7005 - accuracy: 0.7422\n",
            "Epoch 39: val_loss did not improve from 1.05943\n",
            "100/100 [==============================] - 4s 45ms/step - loss: 0.7013 - accuracy: 0.7415 - val_loss: 1.1163 - val_accuracy: 0.5971 - lr: 0.0010\n",
            "Epoch 40/50\n",
            " 99/100 [============================>.] - ETA: 0s - loss: 0.6720 - accuracy: 0.7538\n",
            "Epoch 40: val_loss did not improve from 1.05943\n",
            "100/100 [==============================] - 5s 45ms/step - loss: 0.6729 - accuracy: 0.7529 - val_loss: 1.2289 - val_accuracy: 0.5863 - lr: 0.0010\n",
            "Epoch 41/50\n",
            " 99/100 [============================>.] - ETA: 0s - loss: 0.6890 - accuracy: 0.7466\n",
            "Epoch 41: val_loss did not improve from 1.05943\n",
            "100/100 [==============================] - 5s 45ms/step - loss: 0.6886 - accuracy: 0.7469 - val_loss: 1.1482 - val_accuracy: 0.5989 - lr: 0.0010\n",
            "Epoch 42/50\n",
            " 99/100 [============================>.] - ETA: 0s - loss: 0.6541 - accuracy: 0.7577\n",
            "Epoch 42: val_loss did not improve from 1.05943\n",
            "100/100 [==============================] - 4s 45ms/step - loss: 0.6543 - accuracy: 0.7577 - val_loss: 1.1525 - val_accuracy: 0.6023 - lr: 0.0010\n",
            "Epoch 43/50\n",
            " 99/100 [============================>.] - ETA: 0s - loss: 0.6352 - accuracy: 0.7681\n",
            "Epoch 43: val_loss did not improve from 1.05943\n",
            "\n",
            "Epoch 43: ReduceLROnPlateau reducing learning rate to 0.00020000000949949026.\n",
            "100/100 [==============================] - 5s 45ms/step - loss: 0.6350 - accuracy: 0.7678 - val_loss: 1.2408 - val_accuracy: 0.5849 - lr: 0.0010\n",
            "Epoch 44/50\n",
            " 99/100 [============================>.] - ETA: 0s - loss: 0.5647 - accuracy: 0.7901\n",
            "Epoch 44: val_loss did not improve from 1.05943\n",
            "100/100 [==============================] - 5s 45ms/step - loss: 0.5638 - accuracy: 0.7906 - val_loss: 1.0822 - val_accuracy: 0.6397 - lr: 2.0000e-04\n",
            "Epoch 45/50\n",
            " 99/100 [============================>.] - ETA: 0s - loss: 0.5300 - accuracy: 0.8090\n",
            "Epoch 45: val_loss did not improve from 1.05943\n",
            "100/100 [==============================] - 5s 45ms/step - loss: 0.5295 - accuracy: 0.8088 - val_loss: 1.0719 - val_accuracy: 0.6526 - lr: 2.0000e-04\n",
            "Epoch 46/50\n",
            " 99/100 [============================>.] - ETA: 0s - loss: 0.5030 - accuracy: 0.8170\n",
            "Epoch 46: val_loss did not improve from 1.05943\n",
            "100/100 [==============================] - 4s 45ms/step - loss: 0.5026 - accuracy: 0.8169 - val_loss: 1.0875 - val_accuracy: 0.6563 - lr: 2.0000e-04\n",
            "Epoch 47/50\n",
            " 99/100 [============================>.] - ETA: 0s - loss: 0.5079 - accuracy: 0.8157\n",
            "Epoch 47: val_loss did not improve from 1.05943\n",
            "100/100 [==============================] - 4s 45ms/step - loss: 0.5074 - accuracy: 0.8158 - val_loss: 1.1201 - val_accuracy: 0.6523 - lr: 2.0000e-04\n",
            "Epoch 48/50\n",
            " 99/100 [============================>.] - ETA: 0s - loss: 0.4818 - accuracy: 0.8289Restoring model weights from the end of the best epoch: 28.\n",
            "\n",
            "Epoch 48: val_loss did not improve from 1.05943\n",
            "100/100 [==============================] - 5s 45ms/step - loss: 0.4819 - accuracy: 0.8283 - val_loss: 1.0843 - val_accuracy: 0.6474 - lr: 2.0000e-04\n",
            "Epoch 48: early stopping\n"
          ]
        }
      ]
    },
    {
      "cell_type": "code",
      "source": [
        "import matplotlib.pyplot as plt\n",
        "\n",
        "plt.figure(figsize = (14,3))\n",
        "plt.subplot(1,2,1)\n",
        "#plt.suptitle('Train', fonstsize = 10)\n",
        "plt.ylabel('Loss', fontsize = 15)\n",
        "plt.plot(history.history['loss'], color = 'b', label = 'Training Loss')\n",
        "plt.plot(history.history['val_loss'], color = 'r', label = 'Validation Loss')\n",
        "\n",
        "plt.subplot(1,2,2)\n",
        "plt.ylabel('Accuracy', fontsize = 15)\n",
        "plt.plot(history.history['accuracy'], color = 'b', label = 'Training Accuracy')\n",
        "plt.plot(history.history['val_accuracy'], color = 'r', label = 'Validation Accuracy')\n",
        "\n",
        "plt.legend(loc = 'lower right')\n",
        "\n",
        "plt.show()"
      ],
      "metadata": {
        "id": "kUrX8DNB4p2J",
        "colab": {
          "base_uri": "https://localhost:8080/",
          "height": 211
        },
        "outputId": "8e28372c-22d1-4e69-d303-17c4d36c4dbf"
      },
      "execution_count": 25,
      "outputs": [
        {
          "output_type": "display_data",
          "data": {
            "text/plain": [
              "<Figure size 1008x216 with 2 Axes>"
            ],
            "image/png": "[encoded data removed]"
          },
          "metadata": {
            "needs_background": "light"
          }
        }
      ]
    },
    {
      "cell_type": "code",
      "source": [
        "y_pred = model.predict(X_test)"
      ],
      "metadata": {
        "id": "DGvyHJC-6jc-",
        "colab": {
          "base_uri": "https://localhost:8080/"
        },
        "outputId": "dec31052-e001-48ba-83a9-3e845c6ce15d"
      },
      "execution_count": 28,
      "outputs": [
        {
          "output_type": "stream",
          "name": "stdout",
          "text": [
            "113/113 [==============================] - 1s 8ms/step\n",
            "[[4.3401903e-01 4.2836550e-03 1.0642976e-01 ... 3.1467374e-02\n",
            "  2.0296514e-02 3.8818955e-01]\n",
            " [3.1823948e-02 1.4570019e-02 1.0800962e-02 ... 2.2202393e-02\n",
            "  8.6486842e-03 7.6712266e-02]\n",
            " [6.5670401e-01 1.8413931e-02 3.5244241e-02 ... 1.6675998e-01\n",
            "  1.7882101e-03 1.2084463e-01]\n",
            " ...\n",
            " [1.9553171e-02 7.9481331e-05 5.7298746e-02 ... 6.4356826e-02\n",
            "  1.0289078e-02 6.6111648e-01]\n",
            " [5.2110630e-01 8.9238689e-04 8.1080325e-02 ... 2.2439392e-01\n",
            "  5.1491880e-03 1.6693456e-01]\n",
            " [1.9360445e-02 7.6552984e-05 5.2265204e-02 ... 3.2188460e-01\n",
            "  1.3638478e-03 5.9368694e-01]]\n"
          ]
        }
      ]
    },
    {
      "cell_type": "code",
      "source": [
        "from sklearn.metrics import confusion_matrix\n",
        "y_pred=model.predict(X_test) \n",
        "y_pred=np.argmax(y_pred, axis=1)\n",
        "y_test=np.argmax(y_test, axis=1)\n",
        "cm = confusion_matrix(y_test, y_pred)\n",
        "print(cm)"
      ],
      "metadata": {
        "id": "nR3dFW9b6omV",
        "colab": {
          "base_uri": "https://localhost:8080/"
        },
        "outputId": "20ddc6cb-ecf0-404b-de7c-e468b0b9e707"
      },
      "execution_count": 27,
      "outputs": [
        {
          "output_type": "stream",
          "name": "stdout",
          "text": [
            "113/113 [==============================] - 1s 5ms/step\n",
            "[[231  21  38  35  55  15  72]\n",
            " [  9  29   2   4   3   0   9]\n",
            " [ 49   4 165  34 112  51  81]\n",
            " [ 18   2  13 758  13  15  76]\n",
            " [ 78   1  56  49 285  12 172]\n",
            " [  6   2  21  32   9 328  17]\n",
            " [ 40   0  39  59  79   8 382]]\n"
          ]
        }
      ]
    }
  ]
}